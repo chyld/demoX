{
 "cells": [
  {
   "cell_type": "markdown",
   "metadata": {
    "slideshow": {
     "slide_type": "-"
    }
   },
   "source": [
    "# Data Science for Executives \n",
    "\n",
    "## Churn case study\n",
    "\n",
    "<br></br>\n",
    "<center>\n",
    "<img src=\"./images/galvanize-logo.png\" alt=\"galvanize logo\" align=\"center\" style=\"width: 200px;\"/>\n",
    "</center>"
   ]
  },
  {
   "cell_type": "code",
   "execution_count": 35,
   "metadata": {
    "slideshow": {
     "slide_type": "skip"
    }
   },
   "outputs": [],
   "source": [
    "import os\n",
    "import sys\n",
    "import time\n",
    "import re\n",
    "import itertools\n",
    "from string import punctuation, printable\n",
    "import numpy as np\n",
    "import pandas as pd\n",
    "import spacy\n",
    "import joblib\n",
    "from collections import Counter\n",
    "import scipy.stats as stats\n",
    "import matplotlib.pyplot as plt\n",
    "from sklearn.utils import shuffle\n",
    "from sklearn.metrics import classification_report\n",
    "from sklearn.pipeline import Pipeline\n",
    "from sklearn.model_selection import train_test_split, GridSearchCV\n",
    "from sklearn.feature_extraction.text import TfidfVectorizer\n",
    "from sklearn.datasets import load_files\n",
    "from sklearn.feature_extraction.stop_words import ENGLISH_STOP_WORDS\n",
    "import seaborn as sns\n",
    "\n",
    "if not 'nlp' in locals():\n",
    "    print(\"Loading English Module...\")\n",
    "    nlp = spacy.load('en')\n",
    "\n",
    "plt.style.use('seaborn')\n",
    "%matplotlib inline\n",
    "\n",
    "SMALL_SIZE = 12\n",
    "MEDIUM_SIZE = 14\n",
    "LARGE_SIZE = 16\n",
    "\n",
    "plt.rc('font', size=SMALL_SIZE)          # controls default text sizes\n",
    "plt.rc('axes', titlesize=SMALL_SIZE)     # fontsize of the axes title\n",
    "plt.rc('axes', labelsize=MEDIUM_SIZE)    # fontsize of the x and y labels\n",
    "plt.rc('xtick', labelsize=SMALL_SIZE)    # fontsize of the tick labels\n",
    "plt.rc('ytick', labelsize=SMALL_SIZE)    # fontsize of the tick labels\n",
    "plt.rc('legend', fontsize=SMALL_SIZE)    # legend fontsize\n",
    "plt.rc('figure', titlesize=LARGE_SIZE)   # fontsize of the figure title\n",
    "\n",
    "## supress all warnings (not to be used during development)\n",
    "import warnings\n",
    "warnings.filterwarnings(\"ignore\")"
   ]
  },
  {
   "cell_type": "markdown",
   "metadata": {
    "slideshow": {
     "slide_type": "notes"
    }
   },
   "source": [
    "Notes"
   ]
  },
  {
   "cell_type": "markdown",
   "metadata": {
    "slideshow": {
     "slide_type": "slide"
    }
   },
   "source": [
    "## What are we going to learn?\n",
    "\n",
    "* A generalizable process to *investigate* the performance of a model\n",
    "* A generalizable way to *investigate* the relationship between business metrics and evaluation metrics \n"
   ]
  },
  {
   "cell_type": "markdown",
   "metadata": {
    "slideshow": {
     "slide_type": "slide"
    }
   },
   "source": [
    "## Follow through\n",
    "\n",
    "> The basic idea of the follow-through is to tune, train and deploy your model, then once you have collected some performance data return to the familiar world of data visualization and hypothesis testing to investigate the relationship between model performance (evaluation metrics) and business metrics.\n",
    "\n",
    "<br></br>\n",
    "<br></br>\n",
    "<center>\n",
    "<img src=\"./images/business-discussion.jpg\" alt=\"discussion\" align=\"center\" style=\"width: 300px;\"/>\n",
    "</center>"
   ]
  },
  {
   "cell_type": "markdown",
   "metadata": {
    "slideshow": {
     "slide_type": "notes"
    }
   },
   "source": [
    "notes"
   ]
  },
  {
   "cell_type": "markdown",
   "metadata": {
    "slideshow": {
     "slide_type": "slide"
    }
   },
   "source": [
    "### Data Science Workflow\n",
    "\n",
    "<br></br>\n",
    "<center>\n",
    "<img src=\"./images/project-workflow-simple.png\" alt=\"workflow simple\" align=\"center\" style=\"width: 500px;\"/>\n",
    "</center>"
   ]
  },
  {
   "cell_type": "markdown",
   "metadata": {
    "slideshow": {
     "slide_type": "notes"
    }
   },
   "source": [
    "notes"
   ]
  },
  {
   "cell_type": "markdown",
   "metadata": {
    "slideshow": {
     "slide_type": "slide"
    }
   },
   "source": [
    "## Synopsis\n",
    "\n",
    "\n",
    "AAVAIL has recently enabled comments on its streaming service.  Feedback from users has indicated that toxic comments and trolls have caused some users to chrun.  Comments need to be monitored for automatic removal of inappropriate content.  \n",
    "\n",
    "## Outline\n",
    "\n",
    "1. Optimize a text classification Pipeline to be deployed for use\n",
    "2. Iterate on and tune the model pipeline\n",
    "3. Use visualization techniques to relate the evaluation metrics to the business metrics"
   ]
  },
  {
   "cell_type": "markdown",
   "metadata": {
    "slideshow": {
     "slide_type": "notes"
    }
   },
   "source": [
    "notes"
   ]
  },
  {
   "cell_type": "markdown",
   "metadata": {
    "slideshow": {
     "slide_type": "slide"
    }
   },
   "source": [
    "## Load Data"
   ]
  },
  {
   "cell_type": "code",
   "execution_count": 36,
   "metadata": {
    "slideshow": {
     "slide_type": "-"
    }
   },
   "outputs": [],
   "source": [
    "data_dir = os.path.join(\".\",\"data\")\n",
    "movie_reviews = load_files(os.path.join(data_dir,\"movie_reviews\"), shuffle=True)\n",
    "X = movie_reviews.data\n",
    "y = movie_reviews.target\n",
    "target_names = movie_reviews.target_names"
   ]
  },
  {
   "cell_type": "code",
   "execution_count": 37,
   "metadata": {
    "slideshow": {
     "slide_type": "skip"
    }
   },
   "outputs": [],
   "source": [
    "def plot_corpus_summary(corpus):\n",
    "    fig = plt.figure(figsize=(14,6))\n",
    "    ax1 = fig.add_subplot(121)\n",
    "    ax2 = fig.add_subplot(122)\n",
    "    \n",
    "    tokens_per_doc = [len(str(doc).split(\" \")) for doc in corpus]\n",
    "    all_docs = [str(doc).split(\" \") for doc in corpus]\n",
    "    all_docs = list(itertools.chain.from_iterable(all_docs))\n",
    "    unique_tokens, token_counts = np.unique(all_docs, return_counts=True)\n",
    "    \n",
    "    print(\"---------------------------\")\n",
    "    print(\"num docs\", len(corpus))\n",
    "    print(\"median tokens\",np.median(tokens_per_doc))\n",
    "    print(\"num tokens\",len(all_docs))\n",
    "    print(\"unique tokens\", unique_tokens.size)\n",
    "    print(\"---------------------------\")\n",
    "  \n",
    "    sns.distplot(tokens_per_doc, ax=ax1)\n",
    "    sns.distplot(token_counts, ax=ax2)\n",
    "    ax1.set_title(\"Document Sizes\")\n",
    "    ax2.set_title(\"Token Counts\") \n",
    "    \n"
   ]
  },
  {
   "cell_type": "markdown",
   "metadata": {
    "slideshow": {
     "slide_type": "notes"
    }
   },
   "source": [
    "notes"
   ]
  },
  {
   "cell_type": "markdown",
   "metadata": {
    "slideshow": {
     "slide_type": "slide"
    }
   },
   "source": [
    "## Documents Summary"
   ]
  },
  {
   "cell_type": "code",
   "execution_count": 52,
   "metadata": {
    "scrolled": true,
    "slideshow": {
     "slide_type": "-"
    }
   },
   "outputs": [
    {
     "name": "stdout",
     "output_type": "stream",
     "text": [
      "---------------------------\n",
      "num docs 2000\n",
      "median tokens 698.0\n",
      "num tokens 1496584\n",
      "unique tokens 57588\n",
      "---------------------------\n"
     ]
    },
    {
     "data": {
      "image/png": "[encoded data removed]",
      "text/plain": [
       "<Figure size 1008x432 with 2 Axes>"
      ]
     },
     "metadata": {
      "needs_background": "light"
     },
     "output_type": "display_data"
    }
   ],
   "source": [
    "plot_corpus_summary(X)"
   ]
  },
  {
   "cell_type": "markdown",
   "metadata": {
    "slideshow": {
     "slide_type": "notes"
    }
   },
   "source": [
    "notes"
   ]
  },
  {
   "cell_type": "code",
   "execution_count": 39,
   "metadata": {
    "slideshow": {
     "slide_type": "skip"
    }
   },
   "outputs": [],
   "source": [
    "import spacy\n",
    "STOPLIST = ENGLISH_STOP_WORDS\n",
    "STOPLIST = set(list(STOPLIST) + [\"foo\"])\n",
    "\n",
    "def lemmatize_document(doc, stop_words=None):\n",
    "    \"\"\"\n",
    "    takes a list of strings where each string is a document\n",
    "    returns a processed list of strings\n",
    "    \"\"\"\n",
    "    \n",
    "    if not stop_words:\n",
    "        stop_words = set([])\n",
    "  \n",
    "    ## ensure working with string\n",
    "    doc = str(doc)\n",
    "\n",
    "    # First remove punctuation form string\n",
    "    if sys.version_info.major == 3:\n",
    "        PUNCT_DICT = {ord(punc): None for punc in punctuation}\n",
    "        doc = doc.translate(PUNCT_DICT)\n",
    "\n",
    "    # remove unicode\n",
    "    clean_doc = \"\".join([char for char in doc if char in printable])\n",
    "            \n",
    "    # Run the doc through spaCy\n",
    "    doc = nlp(clean_doc)\n",
    "\n",
    "    # Lemmatize and lower text\n",
    "    tokens = [re.sub(\"\\W+\",\"\",token.lemma_.lower()) for token in doc ]\n",
    "    tokens = [t for t in tokens if len(t) > 1]\n",
    "    \n",
    "    return ' '.join(w for w in tokens if w not in stop_words)   \n",
    "    \n",
    "## example usage\n",
    "corpus = ['\"You can fool some of the people all of the time, and all of the people some of the time, but you can not fool all of the people all of the time\". -- Abraham Lincoln']\n",
    "processed = [lemmatize_document(doc, STOPLIST) for doc in corpus]\n",
    "#print(processed[0])\n",
    "processed = [lemmatize_document(doc, None) for doc in corpus]\n",
    "#print(\"\\n\"+processed[0])"
   ]
  },
  {
   "cell_type": "markdown",
   "metadata": {
    "slideshow": {
     "slide_type": "slide"
    }
   },
   "source": [
    "## Process the data and use staging"
   ]
  },
  {
   "cell_type": "code",
   "execution_count": 40,
   "metadata": {
    "slideshow": {
     "slide_type": "-"
    }
   },
   "outputs": [
    {
     "name": "stdout",
     "output_type": "stream",
     "text": [
      "loading processed-corpus.npz from file\n"
     ]
    }
   ],
   "source": [
    "saved_corpus = 'processed-corpus.npz'\n",
    "if not os.path.exists(saved_corpus):\n",
    "    time_start = time.time()\n",
    "    processed_corpus = [lemmatize_document(doc, STOPLIST) for doc in X]\n",
    "    args = {'corpus':processed_corpus}\n",
    "    np.savez_compressed(saved_corpus,**args)\n",
    "    print(\"process time\", time.strftime('%H:%M:%S', time.gmtime(time.time()-time_start)))\n",
    "else:\n",
    "    print(\"loading {} from file\".format(saved_corpus))\n",
    "    npz = np.load(saved_corpus)\n",
    "    processed_corpus = npz['corpus']"
   ]
  },
  {
   "cell_type": "code",
   "execution_count": 41,
   "metadata": {
    "slideshow": {
     "slide_type": "slide"
    }
   },
   "outputs": [
    {
     "name": "stdout",
     "output_type": "stream",
     "text": [
      "---------------------------\n",
      "num docs 2000\n",
      "median tokens 336.0\n",
      "num tokens 716351\n",
      "unique tokens 44193\n",
      "---------------------------\n"
     ]
    },
    {
     "data": {
      "image/png": "[encoded data removed]",
      "text/plain": [
       "<Figure size 1008x432 with 2 Axes>"
      ]
     },
     "metadata": {
      "needs_background": "light"
     },
     "output_type": "display_data"
    }
   ],
   "source": [
    "plot_corpus_summary(processed_corpus)"
   ]
  },
  {
   "cell_type": "code",
   "execution_count": 42,
   "metadata": {
    "slideshow": {
     "slide_type": "slide"
    }
   },
   "outputs": [],
   "source": [
    "## Ensuring our model generalizes to unseen data"
   ]
  },
  {
   "cell_type": "code",
   "execution_count": 43,
   "metadata": {
    "slideshow": {
     "slide_type": "-"
    }
   },
   "outputs": [
    {
     "name": "stdout",
     "output_type": "stream",
     "text": [
      "---------------------------\n",
      "train [(0, 750), (1, 750)]\n",
      "test [(0, 250), (1, 250)]\n",
      "targets ['neg', 'pos']\n",
      "---------------------------\n"
     ]
    }
   ],
   "source": [
    "## train-test split\n",
    "\n",
    "rs = 42\n",
    "X_train, X_test, y_train, y_test = train_test_split(processed_corpus, y, test_size=0.25, stratify=y, random_state=rs)\n",
    "print(\"---------------------------\")\n",
    "print(\"train\", sorted(Counter(y_train).items()))\n",
    "print(\"test\", sorted(Counter(y_test).items()))\n",
    "print(\"targets\", target_names)\n",
    "print(\"---------------------------\")"
   ]
  },
  {
   "cell_type": "markdown",
   "metadata": {
    "slideshow": {
     "slide_type": "notes"
    }
   },
   "source": [
    "notes"
   ]
  },
  {
   "cell_type": "markdown",
   "metadata": {
    "slideshow": {
     "slide_type": "slide"
    }
   },
   "source": [
    "### Train a baseline model"
   ]
  },
  {
   "cell_type": "code",
   "execution_count": 44,
   "metadata": {
    "slideshow": {
     "slide_type": "skip"
    }
   },
   "outputs": [],
   "source": [
    "from sklearn.naive_bayes import ComplementNB\n",
    "\n",
    "def train_baseline_model():\n",
    "    time_start = time.time()\n",
    "    pipe1  = Pipeline(steps=[('tfidf',TfidfVectorizer()),\n",
    "                             ('nb', ComplementNB())])\n",
    "\n",
    "    param_grid1 = {\n",
    "        'tfidf__max_df':[0.4,0.6,0.8],\n",
    "        'tfidf__max_features': [2000,4000,6000],\n",
    "        'nb__alpha':[0.01, 0.1, 1.0]   \n",
    "    }\n",
    "\n",
    "    grid1 = GridSearchCV(pipe1, param_grid=param_grid1, cv=5, iid=False, n_jobs=-1)\n",
    "    grid1.fit(X_train, y_train)\n",
    "    y_pred = grid1.predict(X_test)\n",
    "    print(\"train time\", time.strftime('%H:%M:%S', time.gmtime(time.time()-time_start)))\n",
    "    print(classification_report(y_test, y_pred, target_names=target_names))"
   ]
  },
  {
   "cell_type": "code",
   "execution_count": 45,
   "metadata": {},
   "outputs": [
    {
     "name": "stdout",
     "output_type": "stream",
     "text": [
      "train time 00:00:19\n",
      "              precision    recall  f1-score   support\n",
      "\n",
      "         neg       0.79      0.82      0.81       250\n",
      "         pos       0.82      0.78      0.80       250\n",
      "\n",
      "    accuracy                           0.80       500\n",
      "   macro avg       0.80      0.80      0.80       500\n",
      "weighted avg       0.80      0.80      0.80       500\n",
      "\n"
     ]
    }
   ],
   "source": [
    "train_baseline_model()"
   ]
  },
  {
   "cell_type": "markdown",
   "metadata": {
    "slideshow": {
     "slide_type": "notes"
    }
   },
   "source": [
    "notes"
   ]
  },
  {
   "cell_type": "markdown",
   "metadata": {
    "slideshow": {
     "slide_type": "slide"
    }
   },
   "source": [
    "## Train a more complicated model"
   ]
  },
  {
   "cell_type": "code",
   "execution_count": 46,
   "metadata": {
    "slideshow": {
     "slide_type": "skip"
    }
   },
   "outputs": [],
   "source": [
    "from sklearn.linear_model import SGDClassifier\n",
    "\n",
    "\n",
    "def train_better_model():\n",
    "    time_start = time.time()\n",
    "    pipe2  = Pipeline(steps=[('tfidf',TfidfVectorizer()),\n",
    "                             ('sgd', SGDClassifier())])\n",
    "\n",
    "    param_grid2 = {\n",
    "        'tfidf__max_df':[0.4,0.6,0.8],\n",
    "        'tfidf__max_features': [2000,4000,6000],\n",
    "        'sgd__penalty':['l2', 'l1', 'elasticnet']\n",
    "    }\n",
    "\n",
    "    grid2 = GridSearchCV(pipe2, param_grid=param_grid2, cv=5, iid=False, n_jobs=-1)\n",
    "    grid2.fit(X_train, y_train)\n",
    "    y_pred = grid2.predict(X_test)\n",
    "    print(\"train time\", time.strftime('%H:%M:%S', time.gmtime(time.time()-time_start)))\n",
    "    print(classification_report(y_test, y_pred, target_names=target_names))"
   ]
  },
  {
   "cell_type": "code",
   "execution_count": 47,
   "metadata": {
    "slideshow": {
     "slide_type": "-"
    }
   },
   "outputs": [
    {
     "name": "stdout",
     "output_type": "stream",
     "text": [
      "train time 00:00:19\n",
      "              precision    recall  f1-score   support\n",
      "\n",
      "         neg       0.83      0.79      0.81       250\n",
      "         pos       0.80      0.84      0.82       250\n",
      "\n",
      "    accuracy                           0.81       500\n",
      "   macro avg       0.81      0.81      0.81       500\n",
      "weighted avg       0.81      0.81      0.81       500\n",
      "\n"
     ]
    }
   ],
   "source": [
    "train_better_model()"
   ]
  },
  {
   "cell_type": "code",
   "execution_count": 48,
   "metadata": {
    "slideshow": {
     "slide_type": "skip"
    }
   },
   "outputs": [],
   "source": [
    "def simulate_production(test_accuracy, num_weeks=26):\n",
    "    \"\"\"\n",
    "    INPUT: takes a value for test model accuracy\n",
    "    OUTPUT: returns a data frame with relevant\n",
    "    \"\"\"\n",
    "    \n",
    "    if test_accuracy < 0 or test_accuracy > 1.0:\n",
    "        raise Exception(\"test accuracy must be between 0 and 1\")\n",
    "    \n",
    "    ## simulate test accuracy (two component gaussian)\n",
    "    modes = np.random.binomial(n=1,p=0.3,size=num_weeks)\n",
    "    mode1 = np.where(modes==0)[0]\n",
    "    mode2 = np.where(modes==1)[0]\n",
    "    projected_em = np.zeros(num_weeks)\n",
    "    projected_em[mode1] = stats.norm(loc=test_accuracy,scale=0.02).rvs(mode1.size)\n",
    "    projected_em[mode2] = stats.norm(loc=test_accuracy,scale=0.04).rvs(mode2.size)\n",
    "    projected_em[projected_em > 0.99] = 0.99\n",
    "    \n",
    "    #print(projected_em)\n",
    "    min_val = 0.5\n",
    "    projected_bm = (1.0 - ((projected_em - min_val) / (1.0 - min_val))) * .1\n",
    "    #print(projected_bm)\n",
    "    \n",
    "    website_effects = np.array([0.0,0.02,-0.02])\n",
    "    website = np.sort(np.random.randint(0,3,num_weeks))\n",
    "    \n",
    "    for sv in np.unique(website):\n",
    "        projected_bm[website==sv] = projected_bm[website==sv] + website_effects[sv]\n",
    "    \n",
    "    data = {'churn_rate':projected_bm,\n",
    "            'accuracy':projected_em,\n",
    "            'website':website}\n",
    "    \n",
    "    return(pd.DataFrame(data))"
   ]
  },
  {
   "cell_type": "code",
   "execution_count": 49,
   "metadata": {
    "slideshow": {
     "slide_type": "skip"
    }
   },
   "outputs": [],
   "source": [
    "\n",
    "def run_simulation():\n",
    "    report = classification_report(y_test, y_pred, target_names=target_names,output_dict=True)\n",
    "    df = simulate_production(report['accuracy'])\n",
    "\n",
    "    fig = plt.figure(figsize=(16,8))\n",
    "    ax1 = fig.add_subplot(111)\n",
    "\n",
    "    n_weeks = df.shape[0]\n",
    "\n",
    "    color = 'tab:red'\n",
    "    ax1.set_xlabel('week')\n",
    "    ax1.set_ylabel('churn_rate', color=color)\n",
    "    p1 = ax1.plot(np.arange(n_weeks), df['churn_rate'], color=color, lw=4)\n",
    "    ax1.tick_params(axis='y',labelcolor=color)\n",
    "\n",
    "    ax2 = ax1.twinx()\n",
    "\n",
    "    color = 'tab:blue'\n",
    "    ax2.set_ylabel('accuracy', color=color)\n",
    "    p2 = ax2.plot(np.arange(n_weeks), df['accuracy'], color=color, lw=4)\n",
    "    ax2.tick_params(axis='y',labelcolor=color)\n",
    "    ax2.set_ylim((0.6,1.0))\n",
    "\n",
    "    ax2.legend([p1[0],p2[0]],[\"churn\",\"accuracy\"])\n",
    "\n",
    "    bbox_props = dict(boxstyle=\"rarrow,pad=0.3\", fc=\"white\", ec=\"b\", lw=2)\n",
    "\n",
    "    last = -1\n",
    "    for i,v in enumerate(df['website'].values):\n",
    "        if v != last:\n",
    "            ax2.text(i, 0.6, \"V {}\".format(v), ha=\"center\", va=\"center\", \n",
    "                     size=15,rotation=90,\n",
    "                     bbox=bbox_props)\n",
    "            ax2.vlines(i,0.6,1.0,linestyles='--')\n",
    "        last=v\n",
    "    return(df)"
   ]
  },
  {
   "cell_type": "code",
   "execution_count": 50,
   "metadata": {
    "slideshow": {
     "slide_type": "slide"
    }
   },
   "outputs": [
    {
     "data": {
      "image/png": "[encoded data removed]",
      "text/plain": [
       "<Figure size 1152x576 with 2 Axes>"
      ]
     },
     "metadata": {
      "needs_background": "light"
     },
     "output_type": "display_data"
    }
   ],
   "source": [
    "df = run_simulation()"
   ]
  },
  {
   "cell_type": "code",
   "execution_count": 51,
   "metadata": {},
   "outputs": [
    {
     "name": "stdout",
     "output_type": "stream",
     "text": [
      "                            OLS Regression Results                            \n",
      "==============================================================================\n",
      "Dep. Variable:             churn_rate   R-squared:                       1.000\n",
      "Model:                            OLS   Adj. R-squared:                  1.000\n",
      "Method:                 Least Squares   F-statistic:                 7.706e+30\n",
      "Date:                Tue, 03 Mar 2020   Prob (F-statistic):               0.00\n",
      "Time:                        11:17:45   Log-Likelihood:                 966.45\n",
      "No. Observations:                  26   AIC:                            -1925.\n",
      "Df Residuals:                      22   BIC:                            -1920.\n",
      "Df Model:                           3                                         \n",
      "Covariance Type:            nonrobust                                         \n",
      "===================================================================================\n",
      "                      coef    std err          t      P>|t|      [0.025      0.975]\n",
      "-----------------------------------------------------------------------------------\n",
      "Intercept           0.2000   1.32e-16   1.52e+15      0.000       0.200       0.200\n",
      "C(website)[T.1]     0.0200   9.61e-18   2.08e+15      0.000       0.020       0.020\n",
      "C(website)[T.2]    -0.0200   8.98e-18  -2.23e+15      0.000      -0.020      -0.020\n",
      "accuracy           -0.2000   1.63e-16  -1.23e+15      0.000      -0.200      -0.200\n",
      "==============================================================================\n",
      "Omnibus:                        1.694   Durbin-Watson:                   0.833\n",
      "Prob(Omnibus):                  0.429   Jarque-Bera (JB):                1.302\n",
      "Skew:                           0.344   Prob(JB):                        0.521\n",
      "Kurtosis:                       2.146   Cond. No.                         78.0\n",
      "==============================================================================\n",
      "\n",
      "Warnings:\n",
      "[1] Standard Errors assume that the covariance matrix of the errors is correctly specified.\n"
     ]
    }
   ],
   "source": [
    "import statsmodels.formula.api as smf\n",
    "\n",
    "mod = smf.ols(formula='churn_rate ~ accuracy + C(website)', data=df)\n",
    "res = mod.fit()\n",
    "print(res.summary()) "
   ]
  },
  {
   "cell_type": "code",
   "execution_count": null,
   "metadata": {},
   "outputs": [],
   "source": []
  }
 ],
 "metadata": {
  "celltoolbar": "Slideshow",
  "kernelspec": {
   "display_name": "Python 3",
   "language": "python",
   "name": "python3"
  },
  "language_info": {
   "codemirror_mode": {
    "name": "ipython",
    "version": 3
   },
   "file_extension": ".py",
   "mimetype": "text/x-python",
   "name": "python",
   "nbconvert_exporter": "python",
   "pygments_lexer": "ipython3",
   "version": "3.7.6"
  },
  "rise": {
   "autolaunch": true,
   "enable_chalkboard": true,
   "theme": "sky"
  }
 },
 "nbformat": 4,
 "nbformat_minor": 2
}
