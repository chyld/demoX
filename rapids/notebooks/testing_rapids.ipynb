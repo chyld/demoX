{
 "cells": [
  {
   "cell_type": "markdown",
   "metadata": {},
   "source": [
    "# Testing RAPIDS\n",
    "\n",
    "\n",
    "The dataset comes from [Kaggle Accidents](https://www.kaggle.com/sobhanmoosavi/us-accidents/data)"
   ]
  },
  {
   "cell_type": "code",
   "execution_count": 21,
   "metadata": {},
   "outputs": [],
   "source": [
    "import re\n",
    "import os\n",
    "import time\n",
    "import cudf\n",
    "import numpy as np\n",
    "import pandas as pd\n",
    "from IPython.display import Image\n",
    "import matplotlib.pyplot as plt\n",
    "import seaborn as sns\n",
    "\n",
    "plt.style.use('bmh')\n",
    "%matplotlib inline\n",
    "\n",
    "SMALL_SIZE = 12\n",
    "MEDIUM_SIZE = 14\n",
    "LARGE_SIZE = 16\n",
    "\n",
    "plt.rc('font', size=SMALL_SIZE)          # controls default text sizes\n",
    "plt.rc('axes', titlesize=SMALL_SIZE)     # fontsize of the axes title\n",
    "plt.rc('axes', labelsize=MEDIUM_SIZE)    # fontsize of the x and y labels\n",
    "plt.rc('xtick', labelsize=SMALL_SIZE)    # fontsize of the tick labels\n",
    "plt.rc('ytick', labelsize=SMALL_SIZE)    # fontsize of the tick labels\n",
    "plt.rc('legend', fontsize=SMALL_SIZE)    # legend fontsize\n",
    "plt.rc('figure', titlesize=LARGE_SIZE)   # fontsize of the figure title"
   ]
  },
  {
   "cell_type": "code",
   "execution_count": 3,
   "metadata": {},
   "outputs": [
    {
     "name": "stdout",
     "output_type": "stream",
     "text": [
      "Fri Jul 24 09:35:33 2020       \r\n",
      "+-----------------------------------------------------------------------------+\r\n",
      "| NVIDIA-SMI 440.100      Driver Version: 440.100      CUDA Version: 10.2     |\r\n",
      "|-------------------------------+----------------------+----------------------+\r\n",
      "| GPU  Name        Persistence-M| Bus-Id        Disp.A | Volatile Uncorr. ECC |\r\n",
      "| Fan  Temp  Perf  Pwr:Usage/Cap|         Memory-Usage | GPU-Util  Compute M. |\r\n",
      "|===============================+======================+======================|\r\n",
      "|   0  GeForce GTX 1070    Off  | 00000000:01:00.0  On |                  N/A |\r\n",
      "| N/A   49C    P0    34W /  N/A |    980MiB /  8111MiB |      0%      Default |\r\n",
      "+-------------------------------+----------------------+----------------------+\r\n",
      "                                                                               \r\n",
      "+-----------------------------------------------------------------------------+\r\n",
      "| Processes:                                                       GPU Memory |\r\n",
      "|  GPU       PID   Type   Process name                             Usage      |\r\n",
      "|=============================================================================|\r\n",
      "|    0      1449      G   /usr/lib/xorg/Xorg                            35MiB |\r\n",
      "|    0      2155      G   /usr/lib/xorg/Xorg                           418MiB |\r\n",
      "|    0      2348      G   /usr/bin/gnome-shell                         171MiB |\r\n",
      "|    0      4148      G   /usr/lib/firefox/firefox                      49MiB |\r\n",
      "|    0      4609      G   /usr/lib/firefox/firefox                      11MiB |\r\n",
      "|    0      4965      G   /snap/pycharm-community/205/jbr/bin/java      10MiB |\r\n",
      "|    0      6895      G   ...AAAAAAAAAAAACAAAAAAAAAA= --shared-files   188MiB |\r\n",
      "|    0     51086      G   ...AAAAAAAAAAAACAAAAAAAAAA= --shared-files    61MiB |\r\n",
      "|    0    100053      G   /usr/lib/firefox/firefox                      19MiB |\r\n",
      "+-----------------------------------------------------------------------------+\r\n"
     ]
    }
   ],
   "source": [
    "!nvidia-smi"
   ]
  },
  {
   "cell_type": "code",
   "execution_count": 22,
   "metadata": {},
   "outputs": [],
   "source": [
    "def print_time(start):\n",
    "\n",
    "    # save runtime as a variable\n",
    "    m, s = divmod(time.time() - start, 60)\n",
    "    h, m = divmod(m, 60)\n",
    "    print(f\"{int(h):d}:{int(m):02d}:{int(s):02d}\")\n",
    "    "
   ]
  },
  {
   "cell_type": "code",
   "execution_count": 23,
   "metadata": {},
   "outputs": [
    {
     "name": "stdout",
     "output_type": "stream",
     "text": [
      "Distance(mi)          0.281617\n",
      "Precipitation(in)     0.015983\n",
      "Temperature(F)       61.935119\n",
      "Wind_Speed(mph)       8.219025\n",
      "Severity              2.339929\n",
      "dtype: float64\n",
      "0:00:22\n"
     ]
    }
   ],
   "source": [
    "# load data as you normally would into pandas and print some means \n",
    "\n",
    "data_dir = os.path.join(\"..\",\"data\")\n",
    "file_path = os.path.join(data_dir, \"US_Accidents_June20.csv\")\n",
    "numeric_cols = [\"Distance(mi)\",\"Precipitation(in)\",\"Temperature(F)\",\"Wind_Speed(mph)\",\"Severity\"]\n",
    "\n",
    "start = time.time()\n",
    "df = pd.read_csv(file_path)\n",
    "print(df.loc[:,numeric_cols].mean())\n",
    "print_time(start)"
   ]
  },
  {
   "cell_type": "code",
   "execution_count": null,
   "metadata": {},
   "outputs": [],
   "source": [
    "#df.info(memory_usage='deep')"
   ]
  },
  {
   "cell_type": "code",
   "execution_count": 28,
   "metadata": {},
   "outputs": [
    {
     "name": "stdout",
     "output_type": "stream",
     "text": [
      "Distance(mi) 0.28\n",
      "Precipitation(in) 0.02\n",
      "Temperature(F) 61.94\n",
      "Wind_Speed(mph) 8.22\n",
      "Severity 2.34\n",
      "0:00:01\n"
     ]
    }
   ],
   "source": [
    "# load data with cuDF and print some means\n",
    "start = time.time()\n",
    "gdf = cudf.read_csv(os.path.join(data_dir, \"US_Accidents_June20.csv\"))\n",
    "for column in numeric_cols:\n",
    "    print(column, round(gdf[column].mean(),2))\n",
    "    \n",
    "print_time(start)"
   ]
  },
  {
   "cell_type": "code",
   "execution_count": 30,
   "metadata": {},
   "outputs": [
    {
     "ename": "ModuleNotFoundError",
     "evalue": "No module named 'cuml'",
     "output_type": "error",
     "traceback": [
      "\u001b[0;31m---------------------------------------------------------------------------\u001b[0m",
      "\u001b[0;31mModuleNotFoundError\u001b[0m                       Traceback (most recent call last)",
      "\u001b[0;32m<ipython-input-30-c24536eceb7c>\u001b[0m in \u001b[0;36m<module>\u001b[0;34m\u001b[0m\n\u001b[1;32m      1\u001b[0m \u001b[0;32mimport\u001b[0m \u001b[0mcudf\u001b[0m\u001b[0;34m\u001b[0m\u001b[0;34m\u001b[0m\u001b[0m\n\u001b[0;32m----> 2\u001b[0;31m \u001b[0;32mimport\u001b[0m \u001b[0mcuml\u001b[0m\u001b[0;34m\u001b[0m\u001b[0;34m\u001b[0m\u001b[0m\n\u001b[0m",
      "\u001b[0;31mModuleNotFoundError\u001b[0m: No module named 'cuml'"
     ]
    }
   ],
   "source": [
    "import cudf\n",
    "import cuml"
   ]
  },
  {
   "cell_type": "code",
   "execution_count": null,
   "metadata": {},
   "outputs": [],
   "source": []
  }
 ],
 "metadata": {
  "kernelspec": {
   "display_name": "Python 3",
   "language": "python",
   "name": "python3"
  },
  "language_info": {
   "codemirror_mode": {
    "name": "ipython",
    "version": 3
   },
   "file_extension": ".py",
   "mimetype": "text/x-python",
   "name": "python",
   "nbconvert_exporter": "python",
   "pygments_lexer": "ipython3",
   "version": "3.7.8"
  }
 },
 "nbformat": 4,
 "nbformat_minor": 4
}
