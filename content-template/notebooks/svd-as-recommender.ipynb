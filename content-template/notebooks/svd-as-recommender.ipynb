{
 "cells": [
  {
   "cell_type": "markdown",
   "metadata": {},
   "source": [
    "## SVD for topic analysis\n",
    "\n",
    "We can use SVD to determine what we call **latent features**. This will be best demonstrated with an example.\n",
    "\n",
    "### Users and movie ratings\n",
    "\n",
    "Let's look at users ratings of different movies. The ratings are from 1-5. A rating of 0 means the user hasn't watched the movie.\n",
    "\n",
    "<table style=\"width:80%\">\n",
    "  <tr>\n",
    "    <th></th>\n",
    "    <th>Matrix</th> \n",
    "    <th>Alien</th>\n",
    "    <th>Star Wars</th>\n",
    "    <th>Casa Blanca</th>\n",
    "    <th>Titanic</th>  \n",
    "  </tr>\n",
    "  <tr>\n",
    "    <td>María</td>\n",
    "    <td align=\"center\">1</td>\n",
    "    <td align=\"center\">2</td>\n",
    "    <td align=\"center\">2</td>\n",
    "    <td align=\"center\">0</td>\n",
    "    <td align=\"center\">0</td>  \n",
    "  </tr>\n",
    "  <tr>\n",
    "    <td>Tomás</td>\n",
    "    <td align=\"center\">3</td>\n",
    "    <td align=\"center\">5</td>\n",
    "    <td align=\"center\">5</td>\n",
    "    <td align=\"center\">0</td>\n",
    "    <td align=\"center\">0</td>\n",
    "  </tr>\n",
    "  <tr>\n",
    "    <td>Fernando</td>\n",
    "    <td align=\"center\">4</td>\n",
    "    <td align=\"center\">4</td>\n",
    "    <td align=\"center\">4</td>\n",
    "    <td align=\"center\">0</td>\n",
    "    <td align=\"center\">0</td>\n",
    "  </tr>\n",
    "   <tr>\n",
    "    <td>Eduardo</td>\n",
    "    <td align=\"center\">5</td>\n",
    "    <td align=\"center\">5</td>\n",
    "    <td align=\"center\">5</td>\n",
    "    <td align=\"center\">0</td>\n",
    "    <td align=\"center\">0</td>\n",
    "  </tr>\n",
    "  <tr>\n",
    "    <td>Isabela</td>\n",
    "    <td align=\"center\">0</td>\n",
    "    <td align=\"center\">0</td>\n",
    "    <td align=\"center\">0</td>\n",
    "    <td align=\"center\">5</td>\n",
    "    <td align=\"center\">5</td>\n",
    "  </tr>\n",
    "  <tr>\n",
    "    <td>Miguel</td>\n",
    "    <td align=\"center\">0</td>\n",
    "    <td align=\"center\">0</td>\n",
    "    <td align=\"center\">0</td>\n",
    "    <td align=\"center\">5</td>\n",
    "    <td align=\"center\">5</td>\n",
    "  </tr>\n",
    "  <tr>\n",
    "    <td>Gabriela</td>\n",
    "    <td align=\"center\">0</td>\n",
    "    <td align=\"center\">1</td>\n",
    "    <td align=\"center\">0</td>\n",
    "    <td align=\"center\">2</td>\n",
    "    <td align=\"center\">2</td>\n",
    "  </tr>\n",
    "</table>\n",
    "<br>\n",
    "\n",
    "Note that the first three movies (Matrix, Alien, StarWars) are Sci-fi movies and the last two (Casablanca, Titanic) are Romance. We will be able to mathematically pull out these topics!\n",
    "\n",
    "Let's do the computation with Python."
   ]
  },
  {
   "cell_type": "code",
   "execution_count": 1,
   "metadata": {},
   "outputs": [],
   "source": [
    "import numpy as np\n",
    "import pandas as pd\n",
    "import matplotlib.pyplot as plt\n",
    "%matplotlib inline"
   ]
  },
  {
   "cell_type": "code",
   "execution_count": 2,
   "metadata": {},
   "outputs": [],
   "source": [
    "M = np.array([[1, 2, 2, 0, 0],\n",
    "              [3, 5, 5, 0, 0],\n",
    "              [4, 4, 4, 0, 0],\n",
    "              [5, 5, 5, 0, 0],\n",
    "              [0, 2, 0, 4, 4],\n",
    "              [0, 0, 0, 5, 5],\n",
    "              [0, 1, 0, 2, 2]])"
   ]
  },
  {
   "cell_type": "code",
   "execution_count": 3,
   "metadata": {
    "scrolled": false
   },
   "outputs": [],
   "source": [
    "# Compute SVD\n",
    "from numpy.linalg import svd\n",
    "U, sigma, VT = svd(M,full_matrices=False)"
   ]
  },
  {
   "cell_type": "markdown",
   "metadata": {},
   "source": [
    "## Part 1\n",
    "\n",
    "Describe in your own words what the matrices contain and how they might be used"
   ]
  },
  {
   "cell_type": "code",
   "execution_count": 1,
   "metadata": {},
   "outputs": [],
   "source": [
    "## U matrix\n",
    "## print the shape and add a one sentence description of the matrix"
   ]
  },
  {
   "cell_type": "code",
   "execution_count": null,
   "metadata": {},
   "outputs": [],
   "source": [
    "## sigma matrix\n",
    "## print the shape and add a one sentence description of the matrix"
   ]
  },
  {
   "cell_type": "code",
   "execution_count": 2,
   "metadata": {},
   "outputs": [],
   "source": [
    "## VT matrix\n",
    "## print the shape and add a one sentence description of the matrix"
   ]
  },
  {
   "cell_type": "markdown",
   "metadata": {},
   "source": [
    "## Part 2\n",
    "\n",
    "Making use of the factorized version of our ratings.  The following code rounds the elements of the matrices and prints them for inspection."
   ]
  },
  {
   "cell_type": "code",
   "execution_count": 12,
   "metadata": {},
   "outputs": [
    {
     "name": "stdout",
     "output_type": "stream",
     "text": [
      "             0     1     2     3     4\n",
      "María    -0.21  0.02  0.31  0.26  0.66\n",
      "Tomás    -0.55  0.06  0.53  0.46 -0.33\n",
      "Fernando -0.50  0.07 -0.31 -0.20 -0.37\n",
      "Eduardo  -0.62  0.08 -0.39 -0.24  0.36\n",
      "Isabela  -0.12 -0.60  0.40 -0.52  0.20\n",
      "Miguel   -0.04 -0.73 -0.42  0.53 -0.00\n",
      "Gabriela -0.06 -0.30  0.20 -0.26 -0.40\n",
      "--------------------------------------\n",
      "[[13.84  0.    0.    0.    0.  ]\n",
      " [ 0.    9.52  0.    0.    0.  ]\n",
      " [ 0.    0.    1.69  0.    0.  ]\n",
      " [ 0.    0.    0.    1.02  0.  ]\n",
      " [ 0.    0.    0.    0.    0.  ]]\n",
      "--------------------------------------\n",
      "   Matrix  Alien  StarWars  Casablanca  Titanic\n",
      "0   -0.50  -0.62     -0.60       -0.06    -0.06\n",
      "1    0.09  -0.05      0.11       -0.70    -0.70\n",
      "2   -0.78   0.62      0.03       -0.07    -0.07\n",
      "3   -0.36  -0.48      0.79        0.05     0.05\n",
      "4    0.00   0.00     -0.00       -0.71     0.71\n"
     ]
    }
   ],
   "source": [
    "# Make interpretable\n",
    "movies = ['Matrix','Alien','StarWars','Casablanca','Titanic']\n",
    "users = ['María','Tomás','Fernando','Eduardo','Isabela','Miguel','Gabriela']\n",
    "\n",
    "U, sigma, VT = (np.around(x,2) for x in (U,sigma,VT))\n",
    "df_U = pd.DataFrame(U, index=users)\n",
    "df_VT = pd.DataFrame(VT, columns=movies)\n",
    "\n",
    "print(df_U)\n",
    "print(\"--------------------------------------\")\n",
    "print(np.diag(sigma))\n",
    "print(\"--------------------------------------\")\n",
    "print(df_VT)"
   ]
  },
  {
   "cell_type": "markdown",
   "metadata": {},
   "source": [
    "QUESTION: Add your own description in the cell below of how the matrices relate to each other"
   ]
  },
  {
   "cell_type": "code",
   "execution_count": null,
   "metadata": {},
   "outputs": [],
   "source": []
  },
  {
   "cell_type": "markdown",
   "metadata": {},
   "source": [
    "## Part 3: Work with only the most representive topics\n",
    "\n",
    "The goal of this section is to see if we can reasonably reconstruct the original matrix from truncated versions of the three matrices."
   ]
  },
  {
   "cell_type": "code",
   "execution_count": null,
   "metadata": {},
   "outputs": [],
   "source": [
    "## Truncate all three matrices using slicing such that only the top two factors are represented\n"
   ]
  },
  {
   "cell_type": "code",
   "execution_count": 13,
   "metadata": {},
   "outputs": [],
   "source": [
    "## print the matrix product of the truncated matrices\n"
   ]
  },
  {
   "cell_type": "code",
   "execution_count": null,
   "metadata": {},
   "outputs": [],
   "source": [
    "## print it again this time with df versions.  HINT: you may do a dot product directly on the df_U with df_U.dot()\n"
   ]
  },
  {
   "cell_type": "markdown",
   "metadata": {},
   "source": [
    "## Part 4: Make some recommendations\n",
    "\n",
    "Use cosine similarity to compare all other users to Miguel (using movie profiles).  Which user is closest to Miguel? (use `argsort` for this)"
   ]
  },
  {
   "cell_type": "code",
   "execution_count": null,
   "metadata": {},
   "outputs": [],
   "source": []
  },
  {
   "cell_type": "markdown",
   "metadata": {},
   "source": [
    "Use cosine similarity to comare all other movies to StarWars (using user profiles). Which movie is cloest to StarWars? (use `argsort` for this)"
   ]
  },
  {
   "cell_type": "code",
   "execution_count": null,
   "metadata": {},
   "outputs": [],
   "source": []
  },
  {
   "cell_type": "markdown",
   "metadata": {},
   "source": [
    "Rate two of the movies and lets find your recommendations"
   ]
  },
  {
   "cell_type": "code",
   "execution_count": null,
   "metadata": {},
   "outputs": [],
   "source": [
    "## 1. Create a new vector of recommendations\n",
    "\n",
    "## 2. Append your vector to the ratings matrix\n",
    "\n",
    "## 3. Using cosine similarity determine which movie should be recommended next?\n",
    "\n",
    "## 4. Find the user that has the most similar recommendations to you and recommend the top rated movie you have not seen\n"
   ]
  },
  {
   "cell_type": "markdown",
   "metadata": {},
   "source": [
    "### Extra Credit: In the real world\n",
    "\n",
    "It turns out taking a new vector of recommendations and comparing it to all other vectors can be very slow in practice.  Lets make some recommendations again pretending our matrix has millions of users and thousands of movies.  Use the non-truncated versions for this example, but in the real world we would use the truncated version."
   ]
  },
  {
   "cell_type": "code",
   "execution_count": 14,
   "metadata": {},
   "outputs": [],
   "source": [
    "## 1. Create a new vector of recommendations\n",
    "\n",
    "## 2. Use the V matrix to determine the 2 most representitve loadings\n",
    "\n",
    "## 3. Use the U matrix to find the user that best represents each loading\n",
    "\n",
    "## 4. Create a matrix from the ratings matrix with only the users as rows and all columns\n",
    "\n",
    "## 5. Sum the ratings for each movie into another vector\n",
    "\n",
    "## 6. Using argsort print the movies you would recommend (omitting the ones already rated)"
   ]
  },
  {
   "cell_type": "code",
   "execution_count": null,
   "metadata": {},
   "outputs": [],
   "source": []
  }
 ],
 "metadata": {
  "kernelspec": {
   "display_name": "Python 3",
   "language": "python",
   "name": "python3"
  },
  "language_info": {
   "codemirror_mode": {
    "name": "ipython",
    "version": 3
   },
   "file_extension": ".py",
   "mimetype": "text/x-python",
   "name": "python",
   "nbconvert_exporter": "python",
   "pygments_lexer": "ipython3",
   "version": "3.7.3"
  }
 },
 "nbformat": 4,
 "nbformat_minor": 2
}
