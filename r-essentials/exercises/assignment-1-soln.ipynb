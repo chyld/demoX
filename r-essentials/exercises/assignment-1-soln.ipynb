{
 "cells": [
  {
   "cell_type": "markdown",
   "metadata": {},
   "source": [
    "## Assignment Solution\n",
    "\n",
    "1. Write codes that takes a user inputted number and prints whether it is positive, negative or zero, with \"The inputted number is (positive/negative/zero)\" depending.\n",
    "\n"
   ]
  },
  {
   "cell_type": "code",
   "execution_count": null,
   "metadata": {},
   "outputs": [],
   "source": [
    "num = readline(prompt = 'type a number:')\n",
    "\n",
    "if (num>0){\n",
    "    print(paste('The inputted number ',num,' is positive.'))\n",
    "} else if (num==0){\n",
    "    print(paste('The inputted number ',num,' is zero.'))\n",
    "}else{\n",
    "    print(paste('The inputted number ',num,' is negative.'))\n",
    "}"
   ]
  },
  {
   "cell_type": "markdown",
   "metadata": {},
   "source": [
    "2. Write codes that takes two user inputted numbers and prints \"The first number is larger\" or \"The second number is larger\" depending on which is larger. (**Hint**: you'll need to use `readline()` twice.)\n"
   ]
  },
  {
   "cell_type": "code",
   "execution_count": null,
   "metadata": {},
   "outputs": [],
   "source": [
    "num1 = readline(prompt = 'type a number:')\n",
    "num2 = readline(prompt = 'type another number:')\n",
    "num = as.numeric(num1) - as.numeric(num2)\n",
    "\n",
    "if (num>0){\n",
    "    print(paste('The first number is larger.'))\n",
    "} else if (num==0){\n",
    "    print(paste('The two numbers are equal.'))\n",
    "}else{\n",
    "    print(paste('The second number is larger.'))\n",
    "}"
   ]
  },
  {
   "cell_type": "markdown",
   "metadata": {},
   "source": [
    "3. Write a function that computes the sum from 0 to a user inputted number. This time though, start at the user inputted number and work down. This answer will look very much like the example above, you'll just need to change a couple of things.\n",
    "\n"
   ]
  },
  {
   "cell_type": "code",
   "execution_count": null,
   "metadata": {},
   "outputs": [],
   "source": [
    "#preparation: to create a list of consecutive integers from 0\n",
    "number=-3.23\n",
    "0:number"
   ]
  },
  {
   "cell_type": "code",
   "execution_count": null,
   "metadata": {},
   "outputs": [],
   "source": [
    "sum_from_0 = function(number){\n",
    "    sum = 0\n",
    "    for (i in 0:number){\n",
    "        sum = sum + i\n",
    "    }\n",
    "    return(sum)\n",
    "}\n",
    "\n",
    "num = as.numeric(readline(prompt = 'type a number:'))\n",
    "print(paste('The sum from 0 to your inputted number is',sum_from_0(num)))"
   ]
  },
  {
   "cell_type": "markdown",
   "metadata": {},
   "source": [
    "4. Write a function that computes the factorial of a user inputted number. If you don't know what a factorial is or need a review, check [this](https://en.wikipedia.org/wiki/Factorial) link out. Again, your solution is going to look a lot like the code above. Things you should think about:\n",
    "    * What is the process of computing a factorial if you were to compute it by hand?\n",
    "    * What is the common starting place when trying to compute the factorial of any number?<br><br>\n",
    "\n"
   ]
  },
  {
   "cell_type": "code",
   "execution_count": null,
   "metadata": {},
   "outputs": [],
   "source": [
    "factorial = function(number){\n",
    "    fac = 1\n",
    "    for (i in 1:number){\n",
    "        fac = fac * i\n",
    "    }\n",
    "    return(fac)  \n",
    "}\n",
    "\n",
    "num = as.numeric(readline(prompt = 'type a positive number:'))\n",
    "print(paste('The factorial of your inputted number is',factorial(num)))"
   ]
  },
  {
   "cell_type": "markdown",
   "metadata": {},
   "source": [
    "5.  Write a function that computes and prints all of the nontrivial positive divisors of a user inputted number. If you don't know what a divisor is or need a review, check out [this](https://en.wikipedia.org/wiki/Divisor) link. Things to think about:\n",
    "    * How do you determine if a single number is a divisor of another?\n",
    "    * How do you do this multiple times (**Hint**: it involves a for loop)?\n",
    "    "
   ]
  },
  {
   "cell_type": "code",
   "execution_count": null,
   "metadata": {},
   "outputs": [],
   "source": [
    "#solu1: use a for loop\n",
    "\n",
    "#create a function for nontrivial_positive_divisors (npd)\n",
    "npd = function(x){\n",
    "    y = c()\n",
    "    \n",
    "    for (i in 2:(x-1)){\n",
    "        if (x%%i==0){\n",
    "           y = c(y, i) \n",
    "        }\n",
    "    }\n",
    "    return(y)\n",
    "}\n",
    "\n",
    "npd(129)"
   ]
  },
  {
   "cell_type": "code",
   "execution_count": null,
   "metadata": {},
   "outputs": [],
   "source": [
    "#solu2: use boolean indexing\n",
    "\n",
    "npd = function(x){\n",
    "    #create a list of consecutive integers from 2 to x-1\n",
    "    y = 2:(x-1)\n",
    "    \n",
    "    #boolean indexing the list by modular division\n",
    "    return(y[x%%y==0])\n",
    "}\n",
    "\n",
    "npd(32)"
   ]
  },
  {
   "cell_type": "markdown",
   "metadata": {},
   "source": [
    "6.  Write a function that computes the greatest common divisor between two user inputted numbers. If you don't know what a greatest common divisor is, check out [this](https://en.wikipedia.org/wiki/Greatest_common_divisor) link. \n",
    "\n"
   ]
  },
  {
   "cell_type": "code",
   "execution_count": null,
   "metadata": {},
   "outputs": [],
   "source": [
    "gcd = function(x,y){\n",
    "    max(intersect(npd(x), npd(y)))\n",
    "}\n",
    "\n",
    "gcd(12, 15)"
   ]
  },
  {
   "cell_type": "markdown",
   "metadata": {},
   "source": [
    "7.  Write a function that computes the least common multiple between two user inputted numbers. If you don't know what a least common multiple is or want a review check [this](https://en.wikipedia.org/wiki/Least_common_multiple) out. "
   ]
  },
  {
   "cell_type": "code",
   "execution_count": null,
   "metadata": {},
   "outputs": [],
   "source": [
    "lcd = function(x,y){\n",
    "    min(intersect(npd(x), npd(y)))\n",
    "}\n",
    "\n",
    "lcd(15, 45)"
   ]
  },
  {
   "cell_type": "markdown",
   "metadata": {},
   "source": [
    "8. Write a function that determines whether or not a user inputted number is a prime number and prints `'The number you inputted is (not) a prime number.'` depending on what your function finds. If you don't know what a prime number is or need a review, check out [this](https://en.wikipedia.org/wiki/Prime_number) link. Things to think about:\n",
    "    * How do you check if a number is divisible by another number?\n",
    "    * What numbers are a prime number divisible by?\n",
    "    * How do you check all of the numbers a number could be divisible by?\n",
    "\n"
   ]
  },
  {
   "cell_type": "code",
   "execution_count": null,
   "metadata": {},
   "outputs": [],
   "source": [
    "is_prime = function(x){\n",
    "    if (length(npd(x))==0){\n",
    "        print(paste(x, ' is a prime number.'))\n",
    "    }else{\n",
    "        print(paste(x, ' is NOT a prime number.'))\n",
    "    }\n",
    "}\n",
    "\n",
    "is_prime(4)"
   ]
  },
  {
   "cell_type": "markdown",
   "metadata": {},
   "source": [
    "9.  One can use loops to compute the elements of a mathematical series. Series can be defined recursively with the value of each element depending on the one that comes before it. Consider the series created by the rules:\n",
    "    \n",
    "    > a[0]=1, a[i+1] = 2*a[i] + 1, for i >0\n",
    "\n",
    "    Write a function that prints the `nth` element in the series as determined by input from the user. e.g. If the user inputs the number `3`, your function should print the 3rd element in the series, `15`. You're welcome to check the math! Things to think about:\n",
    "    * You know you're going to use a loop to solve this problem, how?\n",
    "    * How do you store each of the elements as you calculate them with the loop?\n",
    "    * How many elements do you need to keep track of at any one time?\n",
    "\n"
   ]
  },
  {
   "cell_type": "code",
   "execution_count": null,
   "metadata": {},
   "outputs": [],
   "source": [
    "nth = function(n){\n",
    "    #initiation a list\n",
    "    a=c(1)\n",
    "    for (i in 1:(n+1)){\n",
    "        a = c(a,a[i-1]*2+1)\n",
    "    }\n",
    "    return(a[n+1])\n",
    "}"
   ]
  },
  {
   "cell_type": "code",
   "execution_count": null,
   "metadata": {},
   "outputs": [],
   "source": [
    "nth(4)"
   ]
  },
  {
   "cell_type": "markdown",
   "metadata": {},
   "source": [
    "10. Challenge: solve the equation:\n",
    "\n",
    "    `(a + (b - c) * d - e) * f = 75`\n",
    "\n",
    "    where a, b, c, d, e, and f are unique integers in the 1:6.\n",
    "\n",
    "    Hints:\n",
    "      - Computers are so fast that your program can simply try all possible valid values of a, b, c, d, e, and f until it finds one permutation of 1-6 that solves the challenge! (Btw, there is only *one* permutation that will solve it.)\n",
    "      - Use 6 nested for-loops to enumerate all ways of setting each of a, b, c, d, e, and f to the values 1-6.\n",
    "\n",
    "\n",
    "    Want more? Modify your program to solve all these (very similar) equations:\n",
    "\n",
    "    ```\n",
    "    (a + (b - c) * d - e) * f = 22\n",
    "    (a + (b - c) * d - e) * f = 38\n",
    "    (a + (b - c) * d - e) * f = 46\n",
    "    (a + (b - c) * d - e) * f = 57\n",
    "    (a + (b - c) * d - e) * f = 78\n",
    "    (a + (b - c) * d - e) * f = 80\n",
    "    (a + (b - c) * d - e) * f = 81\n",
    "    (a + (b - c) * d - e) * f = 88\n",
    "    (a + (b - c) * d - e) * f = 92\n",
    "    (a + (b - c) * d - e) * f = 100\n",
    "    (a + (b - c) * d - e) * f = 102\n",
    "    (a + (b - c) * d - e) * f = 104\n",
    "    (a + (b - c) * d - e) * f = 105\n",
    "    ```"
   ]
  },
  {
   "cell_type": "code",
   "execution_count": null,
   "metadata": {},
   "outputs": [],
   "source": [
    "#create a matrix where each row is one permutation of v, the list of numbers provided\n",
    "perm <- function(v) {\n",
    "  n <- length(v)\n",
    "  if (n == 1) v\n",
    "  else {\n",
    "    X <- NULL\n",
    "    for (i in 1:n) X <- rbind(X, cbind(v[i], perm(v[-i])))\n",
    "    X\n",
    "  }\n",
    "}\n",
    "\n",
    "# Find solution for equation (a + (b - c) * d - e) * f = x, where a...e are unique within 1:6\n",
    "solve_eqn= function(n){\n",
    "    mat = perm(1:6)\n",
    "    df = as.data.frame(mat)\n",
    "    colnames(df) = c('a','b','c','d','e','f')\n",
    "    \n",
    "    # check if `(a + (b - c) * d - e) * f = n`, using boolean indexing on the rows of df\n",
    "    df1 = df[(df$a + (df$b - df$c) * df$d - df$e) * df$f == n,]\n",
    "    return(df1)\n",
    "}\n",
    "\n"
   ]
  },
  {
   "cell_type": "code",
   "execution_count": null,
   "metadata": {},
   "outputs": [],
   "source": [
    "perm(c(1,2,3))"
   ]
  },
  {
   "cell_type": "code",
   "execution_count": null,
   "metadata": {},
   "outputs": [],
   "source": [
    "solve_eqn(22)"
   ]
  }
 ],
 "metadata": {
  "kernelspec": {
   "display_name": "R",
   "language": "R",
   "name": "ir"
  },
  "language_info": {
   "codemirror_mode": "r",
   "file_extension": ".r",
   "mimetype": "text/x-r-source",
   "name": "R",
   "pygments_lexer": "r",
   "version": "3.6.1"
  }
 },
 "nbformat": 4,
 "nbformat_minor": 4
}
