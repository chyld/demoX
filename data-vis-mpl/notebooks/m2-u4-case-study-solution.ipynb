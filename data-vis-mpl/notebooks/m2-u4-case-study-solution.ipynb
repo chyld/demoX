{
 "cells": [
  {
   "cell_type": "markdown",
   "metadata": {},
   "source": [
    "![ibm cloud logo](./images/ibm-cloud.png)\n",
    "\n",
    "## Case Study - Data visualization"
   ]
  },
  {
   "cell_type": "code",
   "execution_count": 3,
   "metadata": {},
   "outputs": [
    {
     "data": {
      "text/html": [
       "\n",
       "        <iframe\n",
       "            width=\"600\"\n",
       "            height=\"400\"\n",
       "            src=\"https://player.vimeo.com/video/87110435\"\n",
       "            frameborder=\"0\"\n",
       "            allowfullscreen\n",
       "        ></iframe>\n",
       "        "
      ],
      "text/plain": [
       "<IPython.lib.display.IFrame at 0x10f91d358>"
      ]
     },
     "execution_count": 3,
     "metadata": {},
     "output_type": "execute_result"
    }
   ],
   "source": [
    "from IPython.display import IFrame\n",
    "IFrame('https://player.vimeo.com/video/87110435', width=600,height=400)"
   ]
  },
  {
   "cell_type": "markdown",
   "metadata": {},
   "source": [
    "### Getting started\n",
    "\n",
    "As you did in the data ingestion case study download the following notebook and the necessary data then open the notebook locally or a part of your project on Watson Studio.\n",
    "\n",
    "* [m2-u4-case-study.ipynb](m1-u6-case-study.ipynb)\n",
    "* [m4-u4-case-study-solution.ipynb](./notebooks/m2-u4-case-study-solution.ipynb)\n",
    "* [aavail-customers.db](./data/aavail-customers.db)\n",
    "* [aavail-steams.csv](./data/aavail-streams.csv)"
   ]
  },
  {
   "cell_type": "markdown",
   "metadata": {},
   "source": [
    "### Build a deliverable\n",
    "\n",
    "Recall that you are trying to identify the factors that contribute to the unique market situation in Singapore.  Singapore has a higher rate of churn than the other markets and there is something in the data that, once uncovered, will allow you to make a hypothesis.  \n",
    "\n",
    "Your deliverable is a storyboard.  The story should begin with descriptions of the data along with a summary of the business opportunity.  The rest of the story details the process of your investigation and puts into context your findings.  Finally, you should end with some discussion and suggestions about next steps in the process.\n",
    "\n",
    "Possible formats for your deliverable:\n",
    "\n",
    "**Slideshow**\n",
    "\n",
    "   * [Jupyter notebooks to slides with RISE](https://github.com/damianavila/RISE)\n",
    "   * [Beamer](http://ctan.mirrors.hoobly.com/macros/latex/contrib/beamer/doc/beameruserguide.pdf) using $\\LaTeX$\n",
    "   * [LibreOffice](https://www.libreoffice.org)\n",
    "  \n",
    "**Reports**\n",
    "\n",
    "   * [nbconvert](https://nbconvert.readthedocs.io/en/latest)\n",
    "   * [PDF reports from plotly](https://plot.ly/python/v3/pdf-reports)\n",
    "   * [PDF or HTML reports from Jinja2](http://www.marknagelberg.com/creating-pdf-reports-with-python-pdfkit-and-jinja2-templates/)\n",
    "   \n",
    "If you have not given it a try, RISE is a powerful and professional presentation tool.  It is outside of the scope of this content, but [this video from last year's jupytercon](https://www.youtube.com/watch?v=Gx2TnIdt0hw) is great place to start if you want to learn more."
   ]
  },
  {
   "cell_type": "markdown",
   "metadata": {},
   "source": [
    "### Expectations\n",
    "\n",
    "That you build a deliverable either in slideshow or report form to accomplish the following:\n",
    "\n",
    "1. Use a data ingestion script that readily accepts more data in batch form\n",
    "2. Explicitly identify and handle missing values at the level of data ingestion\n",
    "3. Visual summaries that detail the data (including the number of missing value, columns dropped etc)\n",
    "4. **Through *investigative visualization* identify the factor or factors that explain the Singapore situation**.\n",
    "5. At a minimum one line descriptions should be used for each plot and table\n",
    "6. Conclustions and discussion about next steps\n",
    "\n",
    "If the deliverable is a presentation it is reasonable to assume that 30 minutes would be enough time to cover the materials."
   ]
  },
  {
   "cell_type": "code",
   "execution_count": null,
   "metadata": {},
   "outputs": [],
   "source": []
  }
 ],
 "metadata": {
  "kernelspec": {
   "display_name": "Python 3",
   "language": "python",
   "name": "python3"
  },
  "language_info": {
   "codemirror_mode": {
    "name": "ipython",
    "version": 3
   },
   "file_extension": ".py",
   "mimetype": "text/x-python",
   "name": "python",
   "nbconvert_exporter": "python",
   "pygments_lexer": "ipython3",
   "version": "3.7.4"
  }
 },
 "nbformat": 4,
 "nbformat_minor": 2
}
