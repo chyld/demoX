{
 "cells": [
  {
   "cell_type": "markdown",
   "metadata": {
    "slideshow": {
     "slide_type": "skip"
    }
   },
   "source": [
    "%%HTML\n",
    "<style>\n",
    "\n",
    ".CodeMirror {\n",
    "    width: 100vw;\n",
    "}\n",
    "\n",
    ".container {\n",
    "    width: 99% !important;\n",
    "}\n",
    "\n",
    ".rendered_html {\n",
    "  font-size:0.8em;\n",
    "}\n",
    ".rendered_html table, .rendered_html th, .rendered_html tr, .rendered_html td {\n",
    "     font-size: 100%;\n",
    "}\n",
    "\n",
    "</style>"
   ]
  },
  {
   "cell_type": "markdown",
   "metadata": {
    "slideshow": {
     "slide_type": "-"
    }
   },
   "source": [
    "## Missing Values - Multiple Imputation\n",
    "<br>\n",
    "<center>\n",
    "<img src=\"../images/ibm-logo-bw.png\" alt=\"ibm-logo\" align=\"center\" style=\"width: 200px;\"/>\n",
    "</center>"
   ]
  },
  {
   "cell_type": "markdown",
   "metadata": {
    "slideshow": {
     "slide_type": "notes"
    }
   },
   "source": [
    "Complete case analysis and simple imputation are perhaps the most common ways to account for missing values in a data set.  Here we want to introduce multiple imputation and show how it can be built into your data analysis workflow."
   ]
  },
  {
   "cell_type": "code",
   "execution_count": 1,
   "metadata": {
    "slideshow": {
     "slide_type": "skip"
    }
   },
   "outputs": [],
   "source": [
    "import re\n",
    "import os\n",
    "import numpy as np\n",
    "import pandas as pd\n",
    "import seaborn as sns\n",
    "from termcolor import cprint\n",
    "from IPython.display import Image\n",
    "import matplotlib.pyplot as plt\n",
    "\n",
    "import warnings\n",
    "warnings.filterwarnings('ignore')\n",
    "\n",
    "plt.style.use('seaborn')\n",
    "%matplotlib inline\n",
    "\n",
    "SMALL_SIZE = 10\n",
    "MEDIUM_SIZE = 11\n",
    "LARGE_SIZE = 12\n",
    "\n",
    "plt.rc('font', size=SMALL_SIZE)          # controls default text sizes\n",
    "plt.rc('axes', titlesize=SMALL_SIZE)     # fontsize of the axes title\n",
    "plt.rc('axes', labelsize=MEDIUM_SIZE)    # fontsize of the x and y labels\n",
    "plt.rc('xtick', labelsize=SMALL_SIZE)    # fontsize of the tick labels\n",
    "plt.rc('ytick', labelsize=SMALL_SIZE)    # fontsize of the tick labels\n",
    "plt.rc('legend', fontsize=SMALL_SIZE)    # legend fontsize\n",
    "plt.rc('figure', titlesize=LARGE_SIZE)   # fontsize of the figure title\n",
    "\n",
    "def slide_print(text, color='white'):\n",
    "    cprint(text, color, 'on_grey')"
   ]
  },
  {
   "cell_type": "markdown",
   "metadata": {
    "slideshow": {
     "slide_type": "slide"
    }
   },
   "source": [
    "## Imputation\n",
    "\n",
    "Why?\n",
    "\n",
    "1. Commonly used libraries for machine learning require that their inputs have no missing values, and will not work if this requirement is not satisfied.  Algorithms that infer missing values are carrying out imputation.\n",
    "2. Some incomplete data may be both useful and valuable\n",
    "\n",
    "How?\n",
    "\n",
    "* Simple imputation vs multiple imputation \n",
    "* Univariate vs multivariate imputation"
   ]
  },
  {
   "cell_type": "markdown",
   "metadata": {
    "slideshow": {
     "slide_type": "notes"
    }
   },
   "source": [
    "\n",
    "Machine learning algorithms implemented in scikit-learn and other similar libaries assume that all values are filled in and they hold meaning. Another reason to consider imputation is that data is precious.  It could be precious either in terms of training data or in terms of cost to obtain.  Either way if we can use the incomplete data we should.  A common approach such as using the mean of a given feature is an example of univariate imputation.  Also because imputation was carried out only once it is a simple imputation.  Multivariate imputations use additional features and multiple imputations iterate over several possible imputation scenarios."
   ]
  },
  {
   "cell_type": "markdown",
   "metadata": {
    "slideshow": {
     "slide_type": "slide"
    }
   },
   "source": [
    "### Multiple imputation\n",
    "\n",
    ">The practice of imputing missing values introduces <span style=\"color:orange\">uncertainty</span> into the results of a data science project. One way to deal with that additional uncertainty is to try a range of different values for imputation and measure how the results vary between the different datasets.\n",
    "\n",
    "scikit-learn has an [IterativeImputer](https://scikit-learn.org/stable/modules/impute.html#multivariate-feature-imputation) that can be used to carry out multiple imputations.  It is based on the `mice` package from R.\n",
    "\n",
    "<small>Stef van Buuren, Karin Groothuis-Oudshoorn (2011). “mice: Multivariate Imputation by Chained Equations in R”. Journal of Statistical Software 45: 1-67.</small>"
   ]
  },
  {
   "cell_type": "markdown",
   "metadata": {
    "slideshow": {
     "slide_type": "notes"
    }
   },
   "source": [
    "READ DEF.  scikit-learn has an IterativeImputer tool for modeling missing values. It can be called repeatedly to generate a number of different datasets with varying imputed values. Then, later in your data science workflow after settling on a particular modeling pipeline, you would use these different datasets as inputs and evaluate how the outputs from your pipeline differ depending on the missing value imputations used.  This tool is based on the well-known package mice from R. **END OF PART 1**"
   ]
  },
  {
   "cell_type": "markdown",
   "metadata": {
    "slideshow": {
     "slide_type": "slide"
    }
   },
   "source": [
    "### The data\n",
    "\n",
    "Lets say that you were starting with AAVAIL data shown below, but some missing values are not a regular part of this this dataset---specifically we are missing the `is_subscriber` values for a number of customers.\n",
    "\n",
    "<br></br>"
   ]
  },
  {
   "cell_type": "code",
   "execution_count": 2,
   "metadata": {
    "slideshow": {
     "slide_type": "-"
    }
   },
   "outputs": [
    {
     "data": {
      "text/html": [
       "<div>\n",
       "<style scoped>\n",
       "    .dataframe tbody tr th:only-of-type {\n",
       "        vertical-align: middle;\n",
       "    }\n",
       "\n",
       "    .dataframe tbody tr th {\n",
       "        vertical-align: top;\n",
       "    }\n",
       "\n",
       "    .dataframe thead th {\n",
       "        text-align: right;\n",
       "    }\n",
       "</style>\n",
       "<table border=\"1\" class=\"dataframe\">\n",
       "  <thead>\n",
       "    <tr style=\"text-align: right;\">\n",
       "      <th></th>\n",
       "      <th>customer_id</th>\n",
       "      <th>is_subscriber</th>\n",
       "      <th>country</th>\n",
       "      <th>age</th>\n",
       "      <th>customer_name</th>\n",
       "      <th>subscriber_type</th>\n",
       "      <th>num_streams</th>\n",
       "    </tr>\n",
       "  </thead>\n",
       "  <tbody>\n",
       "    <tr>\n",
       "      <td>0</td>\n",
       "      <td>1</td>\n",
       "      <td>1</td>\n",
       "      <td>united_states</td>\n",
       "      <td>21</td>\n",
       "      <td>Kasen Todd</td>\n",
       "      <td>aavail_premium</td>\n",
       "      <td>23</td>\n",
       "    </tr>\n",
       "    <tr>\n",
       "      <td>1</td>\n",
       "      <td>2</td>\n",
       "      <td>0</td>\n",
       "      <td>singapore</td>\n",
       "      <td>30</td>\n",
       "      <td>Ensley Garza</td>\n",
       "      <td>aavail_unlimited</td>\n",
       "      <td>12</td>\n",
       "    </tr>\n",
       "    <tr>\n",
       "      <td>2</td>\n",
       "      <td>3</td>\n",
       "      <td>0</td>\n",
       "      <td>united_states</td>\n",
       "      <td>21</td>\n",
       "      <td>Lillian Carey</td>\n",
       "      <td>aavail_premium</td>\n",
       "      <td>22</td>\n",
       "    </tr>\n",
       "    <tr>\n",
       "      <td>3</td>\n",
       "      <td>4</td>\n",
       "      <td>1</td>\n",
       "      <td>united_states</td>\n",
       "      <td>20</td>\n",
       "      <td>Beau Christensen</td>\n",
       "      <td>aavail_basic</td>\n",
       "      <td>19</td>\n",
       "    </tr>\n",
       "    <tr>\n",
       "      <td>4</td>\n",
       "      <td>5</td>\n",
       "      <td>1</td>\n",
       "      <td>singapore</td>\n",
       "      <td>21</td>\n",
       "      <td>Ernesto Gibson</td>\n",
       "      <td>aavail_premium</td>\n",
       "      <td>23</td>\n",
       "    </tr>\n",
       "  </tbody>\n",
       "</table>\n",
       "</div>"
      ],
      "text/plain": [
       "   customer_id  is_subscriber        country  age     customer_name  \\\n",
       "0            1              1  united_states   21        Kasen Todd   \n",
       "1            2              0      singapore   30      Ensley Garza   \n",
       "2            3              0  united_states   21     Lillian Carey   \n",
       "3            4              1  united_states   20  Beau Christensen   \n",
       "4            5              1      singapore   21    Ernesto Gibson   \n",
       "\n",
       "    subscriber_type  num_streams  \n",
       "0    aavail_premium           23  \n",
       "1  aavail_unlimited           12  \n",
       "2    aavail_premium           22  \n",
       "3      aavail_basic           19  \n",
       "4    aavail_premium           23  "
      ]
     },
     "execution_count": 2,
     "metadata": {},
     "output_type": "execute_result"
    }
   ],
   "source": [
    "data_dir = os.path.join(\"..\",\"data\")\n",
    "df = pd.read_csv(os.path.join(data_dir,r\"aavail-target.csv\"))\n",
    "df.head()"
   ]
  },
  {
   "cell_type": "markdown",
   "metadata": {
    "slideshow": {
     "slide_type": "notes"
    }
   },
   "source": [
    "While it may be beneficial try the IterativeImputer when working with a dataset with a lot of inter-related missing values across several features, it is important that you know how to build your own multivariate imputer.  Then it is just a matter of using function calls to create multiple imputed datasets.\n",
    "\n",
    "Recall the AAVAIL that were compiled during data ingestion.  In this example we will impute missing values from the 'is_subscriber' column."
   ]
  },
  {
   "cell_type": "code",
   "execution_count": 3,
   "metadata": {
    "slideshow": {
     "slide_type": "slide"
    }
   },
   "outputs": [
    {
     "data": {
      "text/html": [
       "<div>\n",
       "<style scoped>\n",
       "    .dataframe tbody tr th:only-of-type {\n",
       "        vertical-align: middle;\n",
       "    }\n",
       "\n",
       "    .dataframe tbody tr th {\n",
       "        vertical-align: top;\n",
       "    }\n",
       "\n",
       "    .dataframe thead th {\n",
       "        text-align: right;\n",
       "    }\n",
       "</style>\n",
       "<table border=\"1\" class=\"dataframe\">\n",
       "  <thead>\n",
       "    <tr style=\"text-align: right;\">\n",
       "      <th></th>\n",
       "      <th>is_subscriber</th>\n",
       "      <th>age</th>\n",
       "      <th>num_streams</th>\n",
       "      <th>aavail_basic</th>\n",
       "      <th>aavail_premium</th>\n",
       "      <th>aavail_unlimited</th>\n",
       "      <th>singapore</th>\n",
       "      <th>united_states</th>\n",
       "    </tr>\n",
       "  </thead>\n",
       "  <tbody>\n",
       "    <tr>\n",
       "      <td>0</td>\n",
       "      <td>1.0</td>\n",
       "      <td>21.0</td>\n",
       "      <td>23.0</td>\n",
       "      <td>0.0</td>\n",
       "      <td>1.0</td>\n",
       "      <td>0.0</td>\n",
       "      <td>0.0</td>\n",
       "      <td>1.0</td>\n",
       "    </tr>\n",
       "    <tr>\n",
       "      <td>1</td>\n",
       "      <td>0.0</td>\n",
       "      <td>30.0</td>\n",
       "      <td>12.0</td>\n",
       "      <td>0.0</td>\n",
       "      <td>0.0</td>\n",
       "      <td>1.0</td>\n",
       "      <td>1.0</td>\n",
       "      <td>0.0</td>\n",
       "    </tr>\n",
       "    <tr>\n",
       "      <td>2</td>\n",
       "      <td>0.0</td>\n",
       "      <td>21.0</td>\n",
       "      <td>22.0</td>\n",
       "      <td>0.0</td>\n",
       "      <td>1.0</td>\n",
       "      <td>0.0</td>\n",
       "      <td>0.0</td>\n",
       "      <td>1.0</td>\n",
       "    </tr>\n",
       "    <tr>\n",
       "      <td>3</td>\n",
       "      <td>1.0</td>\n",
       "      <td>20.0</td>\n",
       "      <td>19.0</td>\n",
       "      <td>1.0</td>\n",
       "      <td>0.0</td>\n",
       "      <td>0.0</td>\n",
       "      <td>0.0</td>\n",
       "      <td>1.0</td>\n",
       "    </tr>\n",
       "    <tr>\n",
       "      <td>4</td>\n",
       "      <td>1.0</td>\n",
       "      <td>21.0</td>\n",
       "      <td>23.0</td>\n",
       "      <td>0.0</td>\n",
       "      <td>1.0</td>\n",
       "      <td>0.0</td>\n",
       "      <td>1.0</td>\n",
       "      <td>0.0</td>\n",
       "    </tr>\n",
       "  </tbody>\n",
       "</table>\n",
       "</div>"
      ],
      "text/plain": [
       "   is_subscriber   age  num_streams  aavail_basic  aavail_premium  \\\n",
       "0            1.0  21.0         23.0           0.0             1.0   \n",
       "1            0.0  30.0         12.0           0.0             0.0   \n",
       "2            0.0  21.0         22.0           0.0             1.0   \n",
       "3            1.0  20.0         19.0           1.0             0.0   \n",
       "4            1.0  21.0         23.0           0.0             1.0   \n",
       "\n",
       "   aavail_unlimited  singapore  united_states  \n",
       "0               0.0        0.0            1.0  \n",
       "1               1.0        1.0            0.0  \n",
       "2               0.0        0.0            1.0  \n",
       "3               0.0        0.0            1.0  \n",
       "4               0.0        1.0            0.0  "
      ]
     },
     "execution_count": 3,
     "metadata": {},
     "output_type": "execute_result"
    }
   ],
   "source": [
    "from sklearn.preprocessing import OneHotEncoder\n",
    "\n",
    "## one hot encode the subscriber\n",
    "ohe1 = OneHotEncoder()\n",
    "column = df['subscriber_type'].values.reshape(-1,1)\n",
    "ohe1.fit(column)\n",
    "labels1 = ohe1.categories_[0].tolist()\n",
    "X1 = ohe1.transform(column).toarray()\n",
    "\n",
    "## one hot encode the country\n",
    "ohe2 = OneHotEncoder()\n",
    "column = df['country'].values.reshape(-1,1)\n",
    "ohe2.fit(column)\n",
    "labels2 = ohe2.categories_[0].tolist()\n",
    "X2 = ohe2.transform(column).toarray()\n",
    "\n",
    "## concat all of the data\n",
    "labels = ['is_subscriber','age','num_streams']\n",
    "X = df.loc[:,labels].to_numpy()\n",
    "labels = labels + labels1 + labels2\n",
    "X = np.hstack([X,X1,X2])\n",
    "df1 = pd.DataFrame({label:X[:,i] for i,label in enumerate(labels)})\n",
    "\n",
    "df1.head()"
   ]
  },
  {
   "cell_type": "markdown",
   "metadata": {
    "slideshow": {
     "slide_type": "notes"
    }
   },
   "source": [
    "Here we use one hot encoding to expand the 'country' and 'subscriber_type' columns.  We also include the other features that might be useful for imputing the missing values."
   ]
  },
  {
   "cell_type": "markdown",
   "metadata": {
    "slideshow": {
     "slide_type": "slide"
    }
   },
   "source": [
    "## Add missing values\n",
    "\n",
    "<br></br>"
   ]
  },
  {
   "cell_type": "code",
   "execution_count": 4,
   "metadata": {
    "slideshow": {
     "slide_type": "-"
    }
   },
   "outputs": [
    {
     "name": "stdout",
     "output_type": "stream",
     "text": [
      "(1000, 8)\n",
      "[50  0  0  0  0  0  0  0]\n"
     ]
    }
   ],
   "source": [
    "# Set a portion (of size num_nulls) of the data to NaN\n",
    "print(X.shape)\n",
    "np.random.seed(0)\n",
    "num_nulls = 50\n",
    "null_rows = np.random.choice(X.shape[0], size = num_nulls, replace = False)\n",
    "null_col = [0]*num_nulls\n",
    "known_missing = X[null_rows, null_col].copy()\n",
    "X[null_rows, null_col] = np.nan\n",
    "\n",
    "# Check where the NaNs are:\n",
    "print(np.isnan(X).sum(axis = 0))"
   ]
  },
  {
   "cell_type": "markdown",
   "metadata": {
    "slideshow": {
     "slide_type": "notes"
    }
   },
   "source": [
    "This is an educational exercise and for this reason we are showing you how to add missing values to these data.  Adding missing values to a dataset to better understand the effects of imputation methods is a useful tool.  Think of this example and code as a sandbox or as a template for other data sets when exploring new imputation methods."
   ]
  },
  {
   "cell_type": "code",
   "execution_count": 5,
   "metadata": {
    "slideshow": {
     "slide_type": "slide"
    }
   },
   "outputs": [],
   "source": [
    "def make_corr_plot(df,columns):\n",
    "    \"\"\"\n",
    "    make a pairwise correlation plot\n",
    "    \"\"\"\n",
    "\n",
    "    # Compute the correlation matrix\n",
    "    corr = df[columns].corr()\n",
    "    #corr = np.corrcoef(X.T)\n",
    "    \n",
    "    # Generate a mask for the upper triangle\n",
    "    mask = np.zeros_like(corr, dtype=np.bool)\n",
    "    mask[np.triu_indices_from(mask)] = True\n",
    "\n",
    "    # Set up the matplotlib figure\n",
    "    f, ax = plt.subplots(figsize=(11, 7),dpi=150,facecolor='white')\n",
    "\n",
    "    # Generate a custom diverging colormap\n",
    "    cmap = sns.diverging_palette(220, 10, as_cmap=True)\n",
    "\n",
    "    # Draw the heatmap with the mask and correct aspect ratio\n",
    "    sns.heatmap(corr, mask=mask, cmap=cmap, vmax=.3, center=0,\n",
    "                square=True, linewidths=.5, cbar_kws={\"shrink\": .5})\n"
   ]
  },
  {
   "cell_type": "markdown",
   "metadata": {
    "slideshow": {
     "slide_type": "notes"
    }
   },
   "source": [
    "In order for this to work there needs to be a relationship between the features.  We can plot the pairwise correlations  as a grid to better understand whether or not this is a reasonable assumption.  **END OF PART 2**"
   ]
  },
  {
   "cell_type": "code",
   "execution_count": 6,
   "metadata": {
    "scrolled": false,
    "slideshow": {
     "slide_type": "slide"
    }
   },
   "outputs": [
    {
     "data": {
      "image/png": "[encoded data removed]",
      "text/plain": [
       "<Figure size 1650x1050 with 2 Axes>"
      ]
     },
     "metadata": {},
     "output_type": "display_data"
    }
   ],
   "source": [
    "make_corr_plot(df1,labels)"
   ]
  },
  {
   "cell_type": "markdown",
   "metadata": {
    "slideshow": {
     "slide_type": "notes"
    }
   },
   "source": [
    "Remember that before we view a plot we should think about what we expect as a habit for quality assurance.  Before we visualized this plot we *expected* that subscribers from singapore would be negatively correlated with being a subscriber."
   ]
  },
  {
   "cell_type": "code",
   "execution_count": 7,
   "metadata": {
    "slideshow": {
     "slide_type": "slide"
    }
   },
   "outputs": [
    {
     "name": "stdout",
     "output_type": "stream",
     "text": [
      "\u001b[40m\u001b[37m              precision    recall  f1-score   support\n",
      "\n",
      "    inactive       0.39      0.44      0.41        16\n",
      "  subscriber       0.72      0.68      0.70        34\n",
      "\n",
      "    accuracy                           0.60        50\n",
      "   macro avg       0.55      0.56      0.55        50\n",
      "weighted avg       0.61      0.60      0.61        50\n",
      "\u001b[0m\n"
     ]
    }
   ],
   "source": [
    "from sklearn.metrics import classification_report\n",
    "from sklearn.linear_model import LogisticRegression\n",
    "from sklearn import preprocessing\n",
    "\n",
    "## variables\n",
    "impute_col = 0\n",
    "C = 0.01\n",
    "\n",
    "## identify the values that can be used as features\n",
    "y_impute = X[:, impute_col].copy()\n",
    "X_impute = X[:, np.setdiff1d(np.arange(X.shape[1]),impute_col)].copy()\n",
    "missing = np.isnan(y_impute)\n",
    "\n",
    "## scale using sklearn\n",
    "scaler = preprocessing.StandardScaler().fit(X_impute)\n",
    "X_impute =  scaler.transform(X_impute)\n",
    "\n",
    "mod1 = LogisticRegression(C=C)\n",
    "mod1.fit(X_impute[~missing], y_impute[~missing])\n",
    "predicted_missing = mod1.predict(X_impute[missing])\n",
    "slide_print(classification_report(known_missing, predicted_missing, target_names=['inactive','subscriber']))\n",
    "\n",
    "X1 = X.copy()\n",
    "X1[missing,impute_col] = predicted_missing"
   ]
  },
  {
   "cell_type": "markdown",
   "metadata": {
    "slideshow": {
     "slide_type": "notes"
    }
   },
   "source": [
    "Here we use logistic regression to 'impute' the missing values in column 1.  The other columns are used as predictors.  The parameter 'C' is the inverse of the regularization strength and it must must be a positive float. Like in support vector machines, smaller values specify stronger regularization. The f1-scores are something that we could be improve on, but with real data you would not even know this, unless you performed an experiment like this one.  Feel free to use another model in place of logistic regression to see if you can improve on the predictive performance.  The important thing here is that there is the regularization parameter that we can change to allow for multiple imputations."
   ]
  },
  {
   "cell_type": "code",
   "execution_count": 8,
   "metadata": {
    "slideshow": {
     "slide_type": "slide"
    }
   },
   "outputs": [
    {
     "name": "stdout",
     "output_type": "stream",
     "text": [
      "\u001b[40m\u001b[37m              precision    recall  f1-score   support\n",
      "\n",
      "    inactive       0.39      0.44      0.41        16\n",
      "  subscriber       0.72      0.68      0.70        34\n",
      "\n",
      "    accuracy                           0.60        50\n",
      "   macro avg       0.55      0.56      0.55        50\n",
      "weighted avg       0.61      0.60      0.61        50\n",
      "\u001b[0m\n",
      "\u001b[40m\u001b[37m              precision    recall  f1-score   support\n",
      "\n",
      "    inactive       0.33      0.31      0.32        16\n",
      "  subscriber       0.69      0.71      0.70        34\n",
      "\n",
      "    accuracy                           0.58        50\n",
      "   macro avg       0.51      0.51      0.51        50\n",
      "weighted avg       0.57      0.58      0.58        50\n",
      "\u001b[0m\n",
      "\u001b[40m\u001b[37m              precision    recall  f1-score   support\n",
      "\n",
      "    inactive       0.29      0.25      0.27        16\n",
      "  subscriber       0.67      0.71      0.69        34\n",
      "\n",
      "    accuracy                           0.56        50\n",
      "   macro avg       0.48      0.48      0.48        50\n",
      "weighted avg       0.54      0.56      0.55        50\n",
      "\u001b[0m\n"
     ]
    }
   ],
   "source": [
    "datasets = []\n",
    "for C in [0.0001, 0.1, 0.5]:\n",
    "    mod1 = LogisticRegression(C=C)\n",
    "    mod1.fit(X_impute[~missing], y_impute[~missing])\n",
    "    predicted_missing = mod1.predict(X_impute[missing])\n",
    "    slide_print(classification_report(known_missing, predicted_missing, target_names=['inactive','subscriber']))\n",
    "\n",
    "    X_new = X.copy()\n",
    "    X_new[missing,impute_col] = predicted_missing\n",
    "    datasets.append(X_new)"
   ]
  },
  {
   "cell_type": "markdown",
   "metadata": {
    "slideshow": {
     "slide_type": "notes"
    }
   },
   "source": [
    "Here we have generated the new data sets. Some number between 3 and 10 versions is usually sufficient to ensure that you have an understanding of the variability associated with your imputation strategy.  By removing data and carrying out imputation you now have an additional tool to compare strategies without proceeding all the way through the workflow."
   ]
  }
 ],
 "metadata": {
  "celltoolbar": "Slideshow",
  "kernelspec": {
   "display_name": "Python 3",
   "language": "python",
   "name": "python3"
  },
  "language_info": {
   "codemirror_mode": {
    "name": "ipython",
    "version": 3
   },
   "file_extension": ".py",
   "mimetype": "text/x-python",
   "name": "python",
   "nbconvert_exporter": "python",
   "pygments_lexer": "ipython3",
   "version": "3.7.4"
  },
  "rise": {
   "autolaunch": true,
   "enable_chalkboard": true,
   "theme": "sky"
  }
 },
 "nbformat": 4,
 "nbformat_minor": 2
}
