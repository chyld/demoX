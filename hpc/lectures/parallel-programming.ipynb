{
 "cells": [
  {
   "cell_type": "markdown",
   "metadata": {
    "slideshow": {
     "slide_type": "slide"
    }
   },
   "source": [
    "<img src=\"./images/galvanize-logo.png\" alt=\"galvanize-logo\" align=\"center\" style=\"width: 200px;\"/>\n",
    "\n",
    "<hr />\n",
    "\n",
    "### Parallel Programming\n"
   ]
  },
  {
   "cell_type": "markdown",
   "metadata": {
    "slideshow": {
     "slide_type": "slide"
    }
   },
   "source": [
    "## Objectives"
   ]
  },
  {
   "cell_type": "markdown",
   "metadata": {
    "slideshow": {
     "slide_type": "fragment"
    }
   },
   "source": [
    "* Describe some algorithms that contribute to fast code."
   ]
  },
  {
   "cell_type": "markdown",
   "metadata": {
    "slideshow": {
     "slide_type": "fragment"
    }
   },
   "source": [
    "* Describe a typical process for parallel computing"
   ]
  },
  {
   "cell_type": "markdown",
   "metadata": {
    "slideshow": {
     "slide_type": "fragment"
    }
   },
   "source": [
    "* Describe how to get application run time"
   ]
  },
  {
   "cell_type": "markdown",
   "metadata": {
    "slideshow": {
     "slide_type": "slide"
    }
   },
   "source": [
    "## Algorithms for code optimization"
   ]
  },
  {
   "cell_type": "markdown",
   "metadata": {
    "slideshow": {
     "slide_type": "subslide"
    }
   },
   "source": [
    "   * Adaptive methods (e.g. adaptive quadrature, adaprive Runge-Kutta)"
   ]
  },
  {
   "cell_type": "markdown",
   "metadata": {
    "slideshow": {
     "slide_type": "subslide"
    }
   },
   "source": [
    "   * Divide and conquer (e.g. Barnes-Hut, Fast Fourier Transform)"
   ]
  },
  {
   "cell_type": "markdown",
   "metadata": {
    "slideshow": {
     "slide_type": "subslide"
    }
   },
   "source": [
    "   * Tabling and dynamic programming (e.g. Viterbi algorithm for Hidden Markov Models"
   ]
  },
  {
   "cell_type": "markdown",
   "metadata": {
    "slideshow": {
     "slide_type": "subslide"
    }
   },
   "source": [
    "   * Graphs and network algorihtms (e.g. shortest path, max flow min cut)"
   ]
  },
  {
   "cell_type": "markdown",
   "metadata": {
    "slideshow": {
     "slide_type": "subslide"
    }
   },
   "source": [
    "   * Hashing (e.g. locality senstive hashing, Bloom filters)"
   ]
  },
  {
   "cell_type": "markdown",
   "metadata": {
    "slideshow": {
     "slide_type": "subslide"
    }
   },
   "source": [
    "   * Probabilistic algorithms (e.g. randomized projections, Monte Carlo integration)"
   ]
  },
  {
   "cell_type": "markdown",
   "metadata": {
    "slideshow": {
     "slide_type": "slide"
    }
   },
   "source": [
    "## A typical process for parallel programming\n",
    "\n"
   ]
  },
  {
   "cell_type": "markdown",
   "metadata": {
    "slideshow": {
     "slide_type": "subslide"
    }
   },
   "source": [
    "1. Start by profiling a serial program to identify bottlenecks"
   ]
  },
  {
   "cell_type": "markdown",
   "metadata": {
    "slideshow": {
     "slide_type": "subslide"
    }
   },
   "source": [
    "2. Identify opportunities for parallelism by asking the following questions.\n",
    "\n",
    "   * Can tasks be performed in parallel?\n",
    "       * Function calls\n",
    "       * Loops\n",
    "   * Can data be split and operated on in parallel?\n",
    "       * Decomposition of arrays along rows, columns, blocks\n",
    "       * Decomposition of trees into sub-trees\n",
    "   * Is there a pipeline with a sequence of stages?\n",
    "       * Data preprocessing and analysis\n",
    "       * Graphics rendering\n",
    "\n"
   ]
  },
  {
   "cell_type": "markdown",
   "metadata": {
    "slideshow": {
     "slide_type": "subslide"
    }
   },
   "source": [
    "3. Identify the nature of the parallelism?\n",
    "\n",
    "   * **Linear** - Embarrassingly parallel programs\n",
    "   * **Recursive** - Adaptive partitioning methods\n",
    "\n"
   ]
  },
  {
   "cell_type": "markdown",
   "metadata": {
    "slideshow": {
     "slide_type": "subslide"
    }
   },
   "source": [
    "4. Determine the granularity?\n",
    "\n",
    "   10s of jobs\n",
    "   1000s of jobs\n",
    "\n"
   ]
  },
  {
   "cell_type": "markdown",
   "metadata": {
    "slideshow": {
     "slide_type": "subslide"
    }
   },
   "source": [
    "5. Choose an algorithm\n",
    "\n",
    "   * Organize by tasks\n",
    "       * Task parallelism\n",
    "       * Divide and conquer\n",
    "   * Organize by data\n",
    "       * Geometric decomposition\n",
    "       * Recursive decomposition\n",
    "   * Organize by flow\n",
    "       * Pipeline\n",
    "       * Event-based processing\n",
    "\n"
   ]
  },
  {
   "cell_type": "markdown",
   "metadata": {
    "slideshow": {
     "slide_type": "subslide"
    }
   },
   "source": [
    "6. Map to program and data structures\n",
    "\n",
    "   * Program structures\n",
    "      * Single program multiple data (SPMD)\n",
    "      * Master/worker\n",
    "      * Loop parallelism\n",
    "      * Fork/join\n",
    "   * Data structures\n",
    "      * Shared data\n",
    "      * Shared queue\n",
    "      * Distributed array\n"
   ]
  },
  {
   "cell_type": "markdown",
   "metadata": {
    "slideshow": {
     "slide_type": "subslide"
    }
   },
   "source": [
    "\n",
    "7. Map to parallel environment\n",
    "\n",
    "    * Multi-core shared memory\n",
    "       * Cython with OpenMP\n",
    "       * multiprocessing\n",
    "       * IPython.cluster\n",
    "    * Multi-computer\n",
    "       * IPython.cluster\n",
    "       * MPI\n",
    "       * Hadoop / Spark\n",
    "    * GPU\n",
    "       * CUDA\n",
    "       * OpenCL\n",
    "\n"
   ]
  },
  {
   "cell_type": "markdown",
   "metadata": {
    "slideshow": {
     "slide_type": "subslide"
    }
   },
   "source": [
    "8. Execute, debug, tune in parallel environment"
   ]
  },
  {
   "cell_type": "markdown",
   "metadata": {
    "slideshow": {
     "slide_type": "slide"
    }
   },
   "source": [
    "## Getting application run time"
   ]
  },
  {
   "cell_type": "markdown",
   "metadata": {
    "slideshow": {
     "slide_type": "subslide"
    }
   },
   "source": [
    "* [Python Debugger](https://docs.python.org/3/library/pdb.html)  is one way to identify troublesome sections of code, but it is not always the best way to compare multiple functions meant for the same task."
   ]
  },
  {
   "cell_type": "markdown",
   "metadata": {
    "slideshow": {
     "slide_type": "subslide"
    }
   },
   "source": [
    "* [timeit()](https://docs.python.org/3/library/timeit.html#basic-examples) is commonly used to compare specific different implementations of code."
   ]
  },
  {
   "cell_type": "code",
   "execution_count": 9,
   "metadata": {
    "slideshow": {
     "slide_type": "fragment"
    }
   },
   "outputs": [
    {
     "name": "stdout",
     "output_type": "stream",
     "text": [
      "16.1 ms ± 241 µs per loop (mean ± std. dev. of 7 runs, 100 loops each)\n"
     ]
    }
   ],
   "source": [
    "import numpy as np\n",
    "\n",
    "def special_squares(n):\n",
    "    v = np.arange(n)\n",
    "    return v[v%2==0]**2\n",
    "\n",
    "n = 1000000\n",
    "%timeit special_squares(n)"
   ]
  }
 ],
 "metadata": {
  "celltoolbar": "Slideshow",
  "kernelspec": {
   "display_name": "Python 3",
   "language": "python",
   "name": "python3"
  },
  "language_info": {
   "codemirror_mode": {
    "name": "ipython",
    "version": 3
   },
   "file_extension": ".py",
   "mimetype": "text/x-python",
   "name": "python",
   "nbconvert_exporter": "python",
   "pygments_lexer": "ipython3",
   "version": "3.7.6"
  },
  "rise": {
   "autolaunch": true,
   "enable_chalkboard": true,
   "theme": "night"
  }
 },
 "nbformat": 4,
 "nbformat_minor": 2
}
